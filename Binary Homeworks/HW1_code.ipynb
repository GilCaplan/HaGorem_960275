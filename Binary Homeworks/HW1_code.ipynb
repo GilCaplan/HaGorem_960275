{
  "nbformat": 4,
  "nbformat_minor": 0,
  "metadata": {
    "colab": {
      "provenance": []
    },
    "kernelspec": {
      "name": "python3",
      "display_name": "Python 3"
    },
    "language_info": {
      "name": "python"
    }
  },
  "cells": [
    {
      "cell_type": "code",
      "execution_count": 1,
      "metadata": {
        "id": "mggS8kkV1Stn"
      },
      "outputs": [],
      "source": [
        "from requests import get\n",
        "from bs4 import BeautifulSoup\n",
        "from IPython.core.display import clear_output\n",
        "import pandas as pd\n",
        "from time import sleep, time\n",
        "from random import randint\n",
        "import random\n",
        "import csv\n",
        "import re\n",
        "import requests"
      ]
    },
    {
      "cell_type": "code",
      "source": [
        "headers = {\"user-agent\": \"Mozilla/5.0 (Windows NT 10.0; Win64; x64) AppleWebKit/537.36 (KHTML, like Gecko) Chrome/88.0.4324.182 Safari/537.36\"}"
      ],
      "metadata": {
        "id": "kFjbML3Hw-6G"
      },
      "execution_count": 2,
      "outputs": []
    },
    {
      "cell_type": "code",
      "source": [
        "# we take recipes from here\n",
        "urls = [\n",
        "    'https://www.allrecipes.com/recipes/15436/everyday-cooking/one-pot-meals/',\n",
        "    'https://www.allrecipes.com/recipes/17188/holidays-and-events/thanksgiving/main-dishes/',\n",
        "    'https://www.allrecipes.com/recipes/84/healthy-recipes/',\n",
        "    'https://www.allrecipes.com/recipes/455/everyday-cooking/more-meal-ideas/30-minute-meals/',\n",
        "    'https://www.allrecipes.com/',\n",
        "    'https://www.allrecipes.com/recipes/17188/holidays-and-events/thanksgiving/main-dishes/'\n",
        "]\n",
        "\n",
        "recipes_pages = []"
      ],
      "metadata": {
        "id": "CqnU16fFjOaE"
      },
      "execution_count": 3,
      "outputs": []
    },
    {
      "cell_type": "code",
      "source": [
        "# this function takes the urls for the recipes from page_url\n",
        "def get_recipe_links(page_url):\n",
        "    response = requests.get(page_url, headers=headers)\n",
        "    print(response, response.status_code)\n",
        "    # check the response\n",
        "    if response.status_code == 200:\n",
        "        soup = BeautifulSoup(response.text, 'html.parser')\n",
        "\n",
        "        # take urls\n",
        "        links = soup.find_all('a', class_= 'comp mntl-card-list-items mntl-universal-card mntl-document-card mntl-card card card--no-image')\n",
        "\n",
        "        return [link.get('href') for link in links]\n",
        "\n",
        "    else:\n",
        "        print(f\"Failed to retrieve the page: {page_url}\")\n",
        "        return []\n",
        "\n",
        "for page_url in urls:\n",
        "    recipes_pages += get_recipe_links(page_url)\n",
        "    sleep(random.uniform(0.3, 1))\n",
        "\n",
        "recipes_pages = list(set(recipes_pages))\n",
        "print(f\"Total recipe links found: {len(recipes_pages)}\")\n"
      ],
      "metadata": {
        "colab": {
          "base_uri": "https://localhost:8080/"
        },
        "id": "et6hc_ceaZD7",
        "outputId": "94de3993-c29a-4897-a43c-aad86af9dc36"
      },
      "execution_count": 4,
      "outputs": [
        {
          "output_type": "stream",
          "name": "stdout",
          "text": [
            "<Response [200]> 200\n",
            "<Response [200]> 200\n",
            "<Response [200]> 200\n",
            "<Response [200]> 200\n",
            "<Response [200]> 200\n",
            "<Response [200]> 200\n",
            "Total recipe links found: 254\n"
          ]
        }
      ]
    },
    {
      "cell_type": "code",
      "source": [
        "def extract_int_with_commas(text):\n",
        "    # find comma seperated int and parse it, return 0\n",
        "    # if none found\n",
        "    m = re.match(r'\\d{1,3}(,\\d{3})*', text)\n",
        "    if m:\n",
        "        return int(m.group().replace(',', ''))\n",
        "    else:\n",
        "        return 0\n",
        "\n",
        "# Function to scrape details from a single recipe page\n",
        "def get_recipe_details(recipe_url):\n",
        "    response = requests.get(recipe_url, headers=headers)\n",
        "    if response.status_code == 200:\n",
        "        soup = BeautifulSoup(response.text, 'html.parser')\n",
        "\n",
        "        title = soup.find('h1', {'class': 'article-heading text-headline-400'}).text\n",
        "\n",
        "        # check if was rated\n",
        "        rating_div = soup.find('div', {'id': 'mm-recipes-review-bar__rating_1-0'})\n",
        "        if rating_div is not None:\n",
        "            rating = float(rating_div.text)\n",
        "\n",
        "            ratings_count_txt = soup.find('div', {'id': 'mm-recipes-review-bar__rating-count_1-0'}).text\n",
        "            ratings_count = int(re.findall(r'\\d+', ratings_count_txt)[0])\n",
        "        else:\n",
        "            rating = None\n",
        "            ratings_count = 0\n",
        "\n",
        "\n",
        "        reviews_count_txt = soup.find('div', {'id': 'mm-recipes-review-bar__comment-count_1-0'}).text\n",
        "        # print(reviews_count_txt)\n",
        "        reviews_count = extract_int_with_commas(reviews_count_txt)\n",
        "\n",
        "        photos_count_txt = soup.find('div', {'id': 'recipe-review-bar__photo-count_1-0'}).text\n",
        "        # print(photos_count_txt)\n",
        "        photos_count = extract_int_with_commas(photos_count_txt)\n",
        "\n",
        "        ingredients_cnt = len(soup.find_all('li', {'class': 'mm-recipes-structured-ingredients__list-item'}))\n",
        "\n",
        "        return {\n",
        "                'url': recipe_url,\n",
        "                'title': title,\n",
        "                'rating': rating,\n",
        "                'num_ratings': ratings_count,\n",
        "                'num_reviews': reviews_count,\n",
        "                'num_photos': photos_count,\n",
        "                'num_ingredients': ingredients_cnt,\n",
        "        }\n",
        "    else:\n",
        "        print(f\"Failed to retrieve {recipe_url}\")\n",
        "        return None\n"
      ],
      "metadata": {
        "id": "7mrgA6vQ2Si8"
      },
      "execution_count": 5,
      "outputs": []
    },
    {
      "cell_type": "code",
      "source": [
        "recipes_data = []\n",
        "\n",
        "\n",
        "num_recipes = 100\n",
        "# Iterate over the recipe URLs and scrape the data\n",
        "for page_url in recipes_pages:\n",
        "    if not '/recipe/' in page_url:\n",
        "        continue\n",
        "\n",
        "    recipe_details = get_recipe_details(page_url)\n",
        "    if recipe_details is not None:\n",
        "        recipes_data.append(recipe_details)\n",
        "    else:\n",
        "        continue\n",
        "\n",
        "    # stop after 100 recipes scraped\n",
        "    if len(recipes_data) >= num_recipes:\n",
        "      break"
      ],
      "metadata": {
        "id": "RvM8iitawC_8"
      },
      "execution_count": 6,
      "outputs": []
    },
    {
      "cell_type": "code",
      "source": [
        "# save the data\n",
        "df = pd.DataFrame.from_records(recipes_data)\n",
        "df.to_csv('results.csv')"
      ],
      "metadata": {
        "id": "lZInlUrhj-m7"
      },
      "execution_count": 7,
      "outputs": []
    }
  ]
}