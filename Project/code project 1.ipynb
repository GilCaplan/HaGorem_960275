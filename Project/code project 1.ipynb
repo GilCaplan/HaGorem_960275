{
  "nbformat": 4,
  "nbformat_minor": 0,
  "metadata": {
    "colab": {
      "provenance": []
    },
    "kernelspec": {
      "name": "python3",
      "display_name": "Python 3"
    },
    "language_info": {
      "name": "python"
    }
  },
  "cells": [
    {
      "cell_type": "code",
      "execution_count": null,
      "metadata": {
        "id": "dLYTRdXLfsXN"
      },
      "outputs": [],
      "source": [
        "import pandas as pd\n",
        "import numpy as np\n",
        "from scipy import stats\n",
        "import statsmodels.api as sm\n",
        "import matplotlib.pyplot as plt"
      ]
    },
    {
      "cell_type": "code",
      "source": [
        "import kagglehub\n",
        "\n",
        "# Download latest version\n",
        "path = kagglehub.dataset_download(\"cdc/behavioral-risk-factor-surveillance-system\")\n",
        "\n",
        "print(\"Path to dataset files:\", path)"
      ],
      "metadata": {
        "colab": {
          "base_uri": "https://localhost:8080/"
        },
        "id": "cn69bszhfvu-",
        "outputId": "a86c2d9e-16d3-4154-b13f-1b38e49c1bd6"
      },
      "execution_count": null,
      "outputs": [
        {
          "output_type": "stream",
          "name": "stdout",
          "text": [
            "Warning: Looks like you're using an outdated `kagglehub` version (installed: 0.3.5), please consider upgrading to the latest version (0.3.6).\n",
            "Path to dataset files: /root/.cache/kagglehub/datasets/cdc/behavioral-risk-factor-surveillance-system/versions/1\n"
          ]
        }
      ]
    },
    {
      "cell_type": "code",
      "source": [
        "!ls /root/.cache/kagglehub/datasets/cdc/behavioral-risk-factor-surveillance-system/versions/1"
      ],
      "metadata": {
        "colab": {
          "base_uri": "https://localhost:8080/"
        },
        "id": "tnRGP30sfxtY",
        "outputId": "d9f9dae5-baa0-4a63-b53e-915fd1c0ec18"
      },
      "execution_count": null,
      "outputs": [
        {
          "output_type": "stream",
          "name": "stdout",
          "text": [
            "2011.csv  2012.csv  2013.csv  2014.csv\t2015.csv  2015_formats.json\n"
          ]
        }
      ]
    },
    {
      "cell_type": "code",
      "source": [
        "import os\n",
        "\n",
        "data = pd.read_csv(os.path.join(path, '2015.csv'))"
      ],
      "metadata": {
        "id": "AwpMCEtafy2F"
      },
      "execution_count": null,
      "outputs": []
    },
    {
      "cell_type": "code",
      "source": [
        "import pandas as pd\n",
        "import numpy as np\n",
        "from sklearn.linear_model import LinearRegression\n",
        "from sklearn.model_selection import train_test_split\n",
        "import copy\n",
        "\n",
        "data_copy = copy.deepcopy(data)\n",
        "columns_with_missing = ['_BMI5', 'PAFREQ1_', 'PAFREQ2_']\n",
        "\n",
        "for column in columns_with_missing:\n",
        "    data_with_values = data_copy.dropna(subset=[column])\n",
        "    data_missing_values = data_copy[data_copy[column].isna()]\n",
        "    if data_missing_values.empty:\n",
        "        continue\n",
        "    X = data_with_values.select_dtypes(include=[np.number]).drop(columns=columns_with_missing, errors='ignore').dropna()\n",
        "    y = data_with_values.loc[X.index, column]\n",
        "    if len(X) < 2:  # Ensure at least one train and one test sample\n",
        "        continue\n",
        "    X_train, X_test, y_train, y_test = train_test_split(X, y, test_size=0.2, random_state=42)\n",
        "    model = LinearRegression()\n",
        "    model.fit(X_train, y_train)\n",
        "    X_missing = data_missing_values.select_dtypes(include=[np.number]).drop(columns=columns_with_missing, errors='ignore').dropna()\n",
        "    if not X_missing.empty:\n",
        "        data_copy.loc[data_copy[column].isna(), column] = model.predict(X_missing)\n",
        "\n",
        "print(\"Missing values have been filled.\")\n"
      ],
      "metadata": {
        "colab": {
          "base_uri": "https://localhost:8080/"
        },
        "id": "5qeB8xMNzmwm",
        "outputId": "5999de24-229d-49b9-cb35-ff89838bdc05"
      },
      "execution_count": null,
      "outputs": [
        {
          "output_type": "stream",
          "name": "stdout",
          "text": [
            "Missing values have been filled.\n"
          ]
        }
      ]
    },
    {
      "cell_type": "markdown",
      "source": [
        "## BMI Statistics"
      ],
      "metadata": {
        "id": "Voz3UI7ufzcz"
      }
    },
    {
      "cell_type": "code",
      "source": [
        "def print_statistics(x):\n",
        "    print(f'Missing Values: {x.isna().sum()/len(x) * 100:.2f}%')\n",
        "    x = x.dropna()\n",
        "    print(f'min {x.min():.2f}')\n",
        "    print(f'max {x.max():.2f}')\n",
        "    print(f'std {x.std():.2f}')\n",
        "    print(f'mean {x.mean():.2f}')\n",
        "    print(f'median {x.median():.2f}')\n",
        "\n",
        "    quantiles  = x.quantile([0, 0.25, 0.5, 0.75])\n",
        "\n",
        "    q1 = x.quantile(0.25)\n",
        "    q3 = x.quantile(0.75)\n",
        "\n",
        "    IRQ = q3 - q1\n",
        "\n",
        "    print(f'q1: {q1:.2f}')\n",
        "    print(f'q3: {q3:.2f}')\n",
        "    print(f'IRQ: {IRQ:.2f}')"
      ],
      "metadata": {
        "id": "wYB-AMYVf1H_"
      },
      "execution_count": null,
      "outputs": []
    },
    {
      "cell_type": "code",
      "source": [
        "bmi = data['_BMI5'] / 100\n",
        "bmi2 = data_copy['_BMI5'] / 100"
      ],
      "metadata": {
        "id": "uUufKZR-g0wl"
      },
      "execution_count": null,
      "outputs": []
    },
    {
      "cell_type": "code",
      "source": [
        "print_statistics(bmi)"
      ],
      "metadata": {
        "colab": {
          "base_uri": "https://localhost:8080/"
        },
        "id": "orbcs5dnhNbj",
        "outputId": "e268db04-d794-4eb0-9734-32b2fca6d53e"
      },
      "execution_count": null,
      "outputs": [
        {
          "output_type": "stream",
          "name": "stdout",
          "text": [
            "Missing Values: 8.24%\n",
            "min 12.02\n",
            "max 99.95\n",
            "std 6.65\n",
            "mean 28.04\n",
            "median 26.95\n",
            "q1: 23.73\n",
            "q3: 30.90\n",
            "IRQ: 7.17\n"
          ]
        }
      ]
    },
    {
      "cell_type": "markdown",
      "source": [
        "### Exercise"
      ],
      "metadata": {
        "id": "RZCvBBxXhmeZ"
      }
    },
    {
      "cell_type": "code",
      "source": [
        "def get_number_of_minutes_per_week(x):\n",
        "    if x['EXERANY2'] == 1:\n",
        "        if (x['PAFREQ1_'] == 99000) or (x['PAFREQ2_'] == 99000):\n",
        "            return np.NaN\n",
        "\n",
        "        minutes_first = (x['PAFREQ1_'] / 1000) * x['PADUR1_']\n",
        "        minutes_second = (x['PAFREQ2_'] / 1000) * x['PADUR2_']\n",
        "\n",
        "        if pd.isna(minutes_first):\n",
        "            if pd.isna(minutes_second):\n",
        "                return minutes_second\n",
        "            else:\n",
        "                return np.NaN\n",
        "        else:\n",
        "            if pd.isna(minutes_second):\n",
        "                return minutes_first\n",
        "            else:\n",
        "                return minutes_first + minutes_second\n",
        "    elif x['EXERANY2'] == 2:\n",
        "        return 0\n",
        "    else:\n",
        "        return np.NaN"
      ],
      "metadata": {
        "id": "o4etp8G-hlqX"
      },
      "execution_count": null,
      "outputs": []
    },
    {
      "cell_type": "code",
      "source": [
        "exercise = data.apply(get_number_of_minutes_per_week, axis=1)\n"
      ],
      "metadata": {
        "id": "TN6g6ZvWhrLq",
        "colab": {
          "base_uri": "https://localhost:8080/",
          "height": 145
        },
        "outputId": "775f2f13-c685-4702-9b90-92c62fe1f47b"
      },
      "execution_count": null,
      "outputs": [
        {
          "output_type": "error",
          "ename": "NameError",
          "evalue": "name 'data' is not defined",
          "traceback": [
            "\u001b[0;31m---------------------------------------------------------------------------\u001b[0m",
            "\u001b[0;31mNameError\u001b[0m                                 Traceback (most recent call last)",
            "\u001b[0;32m<ipython-input-2-343c5c6d03d8>\u001b[0m in \u001b[0;36m<cell line: 1>\u001b[0;34m()\u001b[0m\n\u001b[0;32m----> 1\u001b[0;31m \u001b[0mexercise\u001b[0m \u001b[0;34m=\u001b[0m \u001b[0mdata\u001b[0m\u001b[0;34m.\u001b[0m\u001b[0mapply\u001b[0m\u001b[0;34m(\u001b[0m\u001b[0mget_number_of_minutes_per_week\u001b[0m\u001b[0;34m,\u001b[0m \u001b[0maxis\u001b[0m\u001b[0;34m=\u001b[0m\u001b[0;36m1\u001b[0m\u001b[0;34m)\u001b[0m\u001b[0;34m\u001b[0m\u001b[0;34m\u001b[0m\u001b[0m\n\u001b[0m",
            "\u001b[0;31mNameError\u001b[0m: name 'data' is not defined"
          ]
        }
      ]
    },
    {
      "cell_type": "code",
      "source": [
        "exercise2 = data_copy.apply(get_number_of_minutes_per_week, axis=1)"
      ],
      "metadata": {
        "id": "2LYPDAUt2pal"
      },
      "execution_count": null,
      "outputs": []
    },
    {
      "cell_type": "code",
      "source": [
        "print_statistics(exercise)"
      ],
      "metadata": {
        "colab": {
          "base_uri": "https://localhost:8080/",
          "height": 145
        },
        "id": "mIcgnh-jh7kI",
        "outputId": "31405541-9fd8-48d4-fb73-7bee51401199"
      },
      "execution_count": null,
      "outputs": [
        {
          "output_type": "error",
          "ename": "NameError",
          "evalue": "name 'print_statistics' is not defined",
          "traceback": [
            "\u001b[0;31m---------------------------------------------------------------------------\u001b[0m",
            "\u001b[0;31mNameError\u001b[0m                                 Traceback (most recent call last)",
            "\u001b[0;32m<ipython-input-3-4c5f316edf57>\u001b[0m in \u001b[0;36m<cell line: 1>\u001b[0;34m()\u001b[0m\n\u001b[0;32m----> 1\u001b[0;31m \u001b[0mprint_statistics\u001b[0m\u001b[0;34m(\u001b[0m\u001b[0mexercise\u001b[0m\u001b[0;34m)\u001b[0m\u001b[0;34m\u001b[0m\u001b[0;34m\u001b[0m\u001b[0m\n\u001b[0m",
            "\u001b[0;31mNameError\u001b[0m: name 'print_statistics' is not defined"
          ]
        }
      ]
    },
    {
      "cell_type": "code",
      "source": [
        "outlier_threhold = 7 * 60 * 12"
      ],
      "metadata": {
        "id": "bdTgQ_vWivp-"
      },
      "execution_count": null,
      "outputs": []
    },
    {
      "cell_type": "code",
      "source": [
        "print(f'Above threhold: {(exercise > outlier_threhold).sum()}')\n",
        "print(f'Above threshold: {(exercise2 > outlier_threhold).sum()}')"
      ],
      "metadata": {
        "id": "TcBHNojDizIB"
      },
      "execution_count": null,
      "outputs": []
    },
    {
      "cell_type": "code",
      "source": [
        "print(f'Above Possible: {(exercise > 7*60*24).sum()}')\n",
        "print(f'Above Possible: {(exercise2 > 7*60*24).sum()}')"
      ],
      "metadata": {
        "id": "Uh_akk-EjvJX"
      },
      "execution_count": null,
      "outputs": []
    },
    {
      "cell_type": "code",
      "source": [
        "print_statistics(exercise[exercise <= outlier_threhold])\n",
        "print_statistics(exercise2[exercise <= outlier_threhold])"
      ],
      "metadata": {
        "id": "vyCLmMqSlFhL"
      },
      "execution_count": null,
      "outputs": []
    },
    {
      "cell_type": "code",
      "source": [
        "def plot(x, name, upper_lim=None, bins=100, units=None, unit=None):\n",
        "    # Plot the histogram with improved style\n",
        "    plt.figure(figsize=(10, 6))  # Adjust the figure size for better readability\n",
        "    plt.hist(exercise.dropna(), bins=bins, color='skyblue', edgecolor='black', alpha=0.7)\n",
        "\n",
        "    additional = f' (up to {upper_lim}{\"\" if units is None else \" \" + units})'\n",
        "    plt.title(f'Distribution of {name}{additional}', fontsize=16, fontweight='bold')  # Add a title\n",
        "    plt.xlabel(f'{name}{f\" ({units})\" if units is not None else \"\"}', fontsize=14)  # Label the x-axis\n",
        "    plt.ylabel('Frequency', fontsize=14)  # Label the y-axis\n",
        "    plt.grid(axis='y', linestyle='--', alpha=0.5)  # Add grid lines for reference\n",
        "    plt.tight_layout()  # Adjust layout for better spacing\n",
        "    if upper_lim is not None:\n",
        "        plt.xlim((0, upper_lim))\n",
        "    plt.show()"
      ],
      "metadata": {
        "id": "A9jJX8cTlhIH"
      },
      "execution_count": null,
      "outputs": []
    },
    {
      "cell_type": "code",
      "source": [
        "plot(exercise, name='Weekly Physical Activity', units='minutes', bins=1000, upper_lim=1500)"
      ],
      "metadata": {
        "id": "kqpCXO1wnNTK"
      },
      "execution_count": null,
      "outputs": []
    },
    {
      "cell_type": "code",
      "source": [
        "(exercise <= 1500).sum()/exercise.count() * 100\n",
        "(exercise2 <= 1500).sum()/exercise2.count() * 100"
      ],
      "metadata": {
        "id": "WFH2c0J8nNUI"
      },
      "execution_count": null,
      "outputs": []
    },
    {
      "cell_type": "code",
      "source": [
        "(exercise == 0).sum()/exercise.count()\n",
        "(exercise2 == 0).sum()/exercise2.count()"
      ],
      "metadata": {
        "id": "mgVDZoFCNqM8"
      },
      "execution_count": null,
      "outputs": []
    },
    {
      "cell_type": "code",
      "source": [
        "na_values = exercise.isna() | bmi.isna()\n",
        "na_values2 = exercise2.isna() | bmi2.isna()"
      ],
      "metadata": {
        "id": "CuIcNsm_sNPo"
      },
      "execution_count": null,
      "outputs": []
    },
    {
      "cell_type": "code",
      "source": [
        "exercise_no_na = exercise[~na_values]\n",
        "bmi_no_na = bmi[~na_values]\n",
        "\n",
        "exercise_no_na2 = exercise[~na_values2]\n",
        "bmi_no_na = bmi2[~na_values2]"
      ],
      "metadata": {
        "id": "6R3ISw3YsQ6f"
      },
      "execution_count": null,
      "outputs": []
    },
    {
      "cell_type": "code",
      "source": [
        "import statsmodels.api as sm\n",
        "\n",
        "def perform_regression(x, y):\n",
        "    # Independent variable (X) and dependent variable (y)\n",
        "\n",
        "\n",
        "    # Add a constant to the independent variable\n",
        "    X = sm.add_constant(x)\n",
        "\n",
        "    # Fit the OLS model with robust standard errors\n",
        "    model = sm.OLS(y, X).fit()  # Specify robust covariance type\n",
        "    print(model.summary())\n",
        "\n",
        "    # Plot the data and the regression line\n",
        "    plt.scatter(x, y, alpha=0.7, color='skyblue', edgecolor='black', linewidth=0.5, label='Data points')\n",
        "    plt.plot(x, model.predict(X), color='red', label='Regression line')\n",
        "    plt.title('Linear Regression: BMI vs. Physical Acitivty')\n",
        "    plt.xlabel('Weekly Physical Acitivty (minutes)')\n",
        "    plt.ylabel('BMI')\n",
        "    plt.legend()\n",
        "    plt.grid(alpha=0.5)\n",
        "    plt.show()"
      ],
      "metadata": {
        "id": "k8KulHTasWq8"
      },
      "execution_count": null,
      "outputs": []
    },
    {
      "cell_type": "code",
      "source": [
        "plt.scatter(x, y, alpha=0.7, color='skyblue', edgecolor='black', linewidth=0.5, label='Data points')\n",
        "plt.plot(x, model.predict(X), color='red', label='Regression line')\n",
        "plt.title('Linear Regression: BMI vs. Physical Acitivty')\n",
        "plt.xlabel('Weekly Physical Acitivty (minutes)')\n",
        "plt.ylabel('BMI')\n",
        "plt.legend()\n",
        "plt.grid(alpha=0.5)\n",
        "plt.show()"
      ],
      "metadata": {
        "id": "vXcPhI2i84Ds"
      },
      "execution_count": null,
      "outputs": []
    },
    {
      "cell_type": "code",
      "source": [
        "perform_regression(exercise_no_na, bmi_no_na)"
      ],
      "metadata": {
        "id": "-3iJbJftvY4Y"
      },
      "execution_count": null,
      "outputs": []
    },
    {
      "cell_type": "code",
      "source": [
        "outliers_mask2 = exercise_no_na2 > 7 * 60 * 12\n",
        "\n",
        "perform_regression(exercise_no_na2[~outliers_mask2], bmi_no_na2[~outliers_mask2])"
      ],
      "metadata": {
        "id": "IfmQ-dWg0czP"
      },
      "execution_count": null,
      "outputs": []
    },
    {
      "cell_type": "code",
      "source": [
        "outliers_mask = exercise_no_na > 7 * 60 * 12\n",
        "\n",
        "perform_regression(exercise_no_na[~outliers_mask], bmi_no_na[~outliers_mask])"
      ],
      "metadata": {
        "id": "Kx4DWoZYv-eQ"
      },
      "execution_count": null,
      "outputs": []
    },
    {
      "cell_type": "code",
      "source": [
        "plt.scatter(exercise_no_na, bmi_no_na, alpha=0.7, color='skyblue', edgecolor='black', linewidth=0.5, label='Data points')\n",
        "plt.plot([0, exercise_no_na.max()], [28.4118, 28.4118 - 0.0012 * exercise_no_na.max()], 'r', label='all data')\n",
        "plt.plot([0, exercise_no_na.max()], [28.4728, 28.4728 - 0.0014 * exercise_no_na.max()], 'r--', label='no outlier')\n",
        "plt.title('Linear Regression: BMI vs. Physical Acitivty (up to 1500 minutes)')\n",
        "plt.xlabel('Weekly Physical Acitivty (minutes)')\n",
        "plt.ylabel('BMI')\n",
        "plt.legend()\n",
        "plt.grid(alpha=0.5)\n",
        "plt.xlim((0, 1500))\n",
        "plt.show()"
      ],
      "metadata": {
        "id": "f1ijP5et_ZdX"
      },
      "execution_count": null,
      "outputs": []
    },
    {
      "cell_type": "code",
      "source": [
        "small_df = pd.DataFrame({'bmi': bmi_no_na, 'exercise': exercise_no_na})"
      ],
      "metadata": {
        "id": "AFls6UP_y4de"
      },
      "execution_count": null,
      "outputs": []
    },
    {
      "cell_type": "code",
      "source": [
        "small_df.head()"
      ],
      "metadata": {
        "id": "B6JVoTgRzL0R"
      },
      "execution_count": null,
      "outputs": []
    },
    {
      "cell_type": "code",
      "source": [
        "sample = small_df.sample(n=100_000)\n",
        "\n",
        "bmi_sample = sample['bmi']\n",
        "exercise_sample = sample['exercise']"
      ],
      "metadata": {
        "id": "qg3EtMEXznNk"
      },
      "execution_count": null,
      "outputs": []
    },
    {
      "cell_type": "code",
      "source": [
        "plt.scatter(exercise_sample, bmi_sample)\n",
        "plt.xlim((0, 3500))\n",
        "plt.plot(exercise_sample, 28.3878 - 0.0008 * exercise_sample, 'r')\n",
        "plt.plot(exercise_sample, 28.5865 - 0.0015 * exercise_sample, 'r')"
      ],
      "metadata": {
        "id": "vqJwF7HyzrZ3"
      },
      "execution_count": null,
      "outputs": []
    },
    {
      "cell_type": "code",
      "source": [
        "def has_heart_problems(x):\n",
        "    if (x['CVDINFR4'] == 1) or (x['CVDCRHD4'] == 1):\n",
        "        return 1\n",
        "    elif (x['CVDINFR4'] == 2) and (x['CVDCRHD4'] == 2):\n",
        "        return 0\n",
        "    else:\n",
        "        return np.NaN"
      ],
      "metadata": {
        "id": "0w5C9XbusZlq"
      },
      "execution_count": null,
      "outputs": []
    },
    {
      "cell_type": "code",
      "source": [
        "heart_attack = data.apply(has_heart_problems, axis=1)\n",
        "bmi = data['_BMI5'] / 100"
      ],
      "metadata": {
        "id": "4PwqAKrys861"
      },
      "execution_count": null,
      "outputs": []
    },
    {
      "cell_type": "code",
      "source": [
        "bmi.head()"
      ],
      "metadata": {
        "id": "Tzezn3M73GI8"
      },
      "execution_count": null,
      "outputs": []
    },
    {
      "cell_type": "code",
      "source": [
        "def logistic_regression(x, y):\n",
        "    na_values = x.isna() | y.isna()\n",
        "    x = x[~na_values]\n",
        "    y = y[~na_values]\n",
        "\n",
        "    x = sm.add_constant(x)\n",
        "    # Fit the logistic regression model\n",
        "    model = sm.Logit(y, x)\n",
        "    result = model.fit()\n",
        "\n",
        "    # Print or return the result\n",
        "    print(result.summary())  # For detailed output\n",
        "    return result\n"
      ],
      "metadata": {
        "id": "rM8ozmEbtjWb"
      },
      "execution_count": null,
      "outputs": []
    },
    {
      "cell_type": "code",
      "source": [
        "result = logistic_regression(bmi, heart_attack)"
      ],
      "metadata": {
        "id": "G0Rxh3fLtzbB"
      },
      "execution_count": null,
      "outputs": []
    },
    {
      "cell_type": "code",
      "source": [
        "result.llr"
      ],
      "metadata": {
        "id": "ZHiogwRHwYKJ"
      },
      "execution_count": null,
      "outputs": []
    },
    {
      "cell_type": "code",
      "source": [
        "from scipy.stats import chi2\n",
        "\n",
        "p_value = chi2.sf(result.llr, 1)\n",
        "p_value"
      ],
      "metadata": {
        "id": "ffw0kT6dwh0u"
      },
      "execution_count": null,
      "outputs": []
    },
    {
      "cell_type": "code",
      "source": [],
      "metadata": {
        "id": "iaH-_VTy1x34"
      },
      "execution_count": null,
      "outputs": []
    }
  ]
}